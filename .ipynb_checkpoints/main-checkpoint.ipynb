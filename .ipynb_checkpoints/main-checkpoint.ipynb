{
 "cells": [
  {
   "cell_type": "code",
   "execution_count": 1,
   "metadata": {},
   "outputs": [],
   "source": [
    "import pandas as pd \n",
    "import numpy as np"
   ]
  },
  {
   "cell_type": "code",
   "execution_count": 2,
   "metadata": {},
   "outputs": [],
   "source": [
    "df=pd.read_csv('records.csv')"
   ]
  },
  {
   "cell_type": "code",
   "execution_count": 3,
   "metadata": {},
   "outputs": [],
   "source": [
    "order=['src_bytes', 'count', 'service', 'srv_count', 'protocol_type',\n",
    "       'diff_srv_rate', 'same_srv_rate', 'flag', 'dst_bytes',\n",
    "       'srv_serror_rate', 'logged_in', 'duration', 'lnum_compromised',\n",
    "       'wrong_fragment', 'is_guest_login', 'num_failed_logins']"
   ]
  },
  {
   "cell_type": "code",
   "execution_count": 4,
   "metadata": {},
   "outputs": [],
   "source": [
    "df=df[(df.columns)&(order)]"
   ]
  },
  {
   "cell_type": "code",
   "execution_count": 5,
   "metadata": {},
   "outputs": [
    {
     "name": "stdout",
     "output_type": "stream",
     "text": [
      "<class 'pandas.core.frame.DataFrame'>\n",
      "RangeIndex: 45 entries, 0 to 44\n",
      "Data columns (total 16 columns):\n",
      " #   Column             Non-Null Count  Dtype  \n",
      "---  ------             --------------  -----  \n",
      " 0   duration           45 non-null     int64  \n",
      " 1   protocol_type      45 non-null     object \n",
      " 2   service            45 non-null     object \n",
      " 3   flag               45 non-null     object \n",
      " 4   src_bytes          45 non-null     int64  \n",
      " 5   dst_bytes          45 non-null     int64  \n",
      " 6   wrong_fragment     45 non-null     int64  \n",
      " 7   num_failed_logins  45 non-null     int64  \n",
      " 8   logged_in          45 non-null     int64  \n",
      " 9   lnum_compromised   45 non-null     int64  \n",
      " 10  is_guest_login     45 non-null     int64  \n",
      " 11  count              45 non-null     int64  \n",
      " 12  srv_count          45 non-null     int64  \n",
      " 13  same_srv_rate      45 non-null     float64\n",
      " 14  diff_srv_rate      45 non-null     int64  \n",
      " 15  srv_serror_rate    45 non-null     float64\n",
      "dtypes: float64(2), int64(11), object(3)\n",
      "memory usage: 5.8+ KB\n"
     ]
    }
   ],
   "source": [
    "df.info()"
   ]
  },
  {
   "cell_type": "code",
   "execution_count": 6,
   "metadata": {},
   "outputs": [],
   "source": [
    "df=df[order]"
   ]
  },
  {
   "cell_type": "code",
   "execution_count": 7,
   "metadata": {},
   "outputs": [
    {
     "name": "stdout",
     "output_type": "stream",
     "text": [
      "<class 'pandas.core.frame.DataFrame'>\n",
      "RangeIndex: 45 entries, 0 to 44\n",
      "Data columns (total 16 columns):\n",
      " #   Column             Non-Null Count  Dtype  \n",
      "---  ------             --------------  -----  \n",
      " 0   src_bytes          45 non-null     int64  \n",
      " 1   count              45 non-null     int64  \n",
      " 2   service            45 non-null     object \n",
      " 3   srv_count          45 non-null     int64  \n",
      " 4   protocol_type      45 non-null     object \n",
      " 5   diff_srv_rate      45 non-null     int64  \n",
      " 6   same_srv_rate      45 non-null     float64\n",
      " 7   flag               45 non-null     object \n",
      " 8   dst_bytes          45 non-null     int64  \n",
      " 9   srv_serror_rate    45 non-null     float64\n",
      " 10  logged_in          45 non-null     int64  \n",
      " 11  duration           45 non-null     int64  \n",
      " 12  lnum_compromised   45 non-null     int64  \n",
      " 13  wrong_fragment     45 non-null     int64  \n",
      " 14  is_guest_login     45 non-null     int64  \n",
      " 15  num_failed_logins  45 non-null     int64  \n",
      "dtypes: float64(2), int64(11), object(3)\n",
      "memory usage: 5.8+ KB\n"
     ]
    }
   ],
   "source": [
    "df.info()"
   ]
  },
  {
   "cell_type": "code",
   "execution_count": 8,
   "metadata": {},
   "outputs": [],
   "source": [
    "df['protocol_type'] = df['protocol_type'].astype('category')\n",
    "df['service'] = df['service'].astype('category')\n",
    "df['flag'] = df['flag'].astype('category')\n",
    "cat_columns = df.select_dtypes(['category']).columns\n",
    "df[cat_columns] = df[cat_columns].apply(lambda x: x.cat.codes)"
   ]
  },
  {
   "cell_type": "code",
   "execution_count": 9,
   "metadata": {},
   "outputs": [
    {
     "name": "stdout",
     "output_type": "stream",
     "text": [
      "<class 'pandas.core.frame.DataFrame'>\n",
      "RangeIndex: 45 entries, 0 to 44\n",
      "Data columns (total 16 columns):\n",
      " #   Column             Non-Null Count  Dtype  \n",
      "---  ------             --------------  -----  \n",
      " 0   src_bytes          45 non-null     int64  \n",
      " 1   count              45 non-null     int64  \n",
      " 2   service            45 non-null     int8   \n",
      " 3   srv_count          45 non-null     int64  \n",
      " 4   protocol_type      45 non-null     int8   \n",
      " 5   diff_srv_rate      45 non-null     int64  \n",
      " 6   same_srv_rate      45 non-null     float64\n",
      " 7   flag               45 non-null     int8   \n",
      " 8   dst_bytes          45 non-null     int64  \n",
      " 9   srv_serror_rate    45 non-null     float64\n",
      " 10  logged_in          45 non-null     int64  \n",
      " 11  duration           45 non-null     int64  \n",
      " 12  lnum_compromised   45 non-null     int64  \n",
      " 13  wrong_fragment     45 non-null     int64  \n",
      " 14  is_guest_login     45 non-null     int64  \n",
      " 15  num_failed_logins  45 non-null     int64  \n",
      "dtypes: float64(2), int64(11), int8(3)\n",
      "memory usage: 4.8 KB\n"
     ]
    }
   ],
   "source": [
    "df.info()"
   ]
  },
  {
   "cell_type": "code",
   "execution_count": 10,
   "metadata": {},
   "outputs": [],
   "source": [
    "import pickle\n",
    "loaded_model = pickle.load(open('finalized_model.sav','rb'))\n",
    "\n",
    "data=df.to_numpy()"
   ]
  },
  {
   "cell_type": "code",
   "execution_count": 11,
   "metadata": {},
   "outputs": [],
   "source": [
    "result = loaded_model.predict(data)"
   ]
  },
  {
   "cell_type": "code",
   "execution_count": 12,
   "metadata": {},
   "outputs": [
    {
     "data": {
      "text/plain": [
       "array([[1, 0, 0, 0, 0],\n",
       "       [1, 0, 0, 0, 0],\n",
       "       [1, 0, 0, 0, 0],\n",
       "       [1, 0, 0, 0, 0],\n",
       "       [0, 0, 0, 0, 0],\n",
       "       [1, 0, 0, 0, 0],\n",
       "       [1, 0, 0, 0, 0],\n",
       "       [1, 0, 0, 0, 0],\n",
       "       [0, 0, 0, 0, 1],\n",
       "       [0, 0, 0, 0, 0],\n",
       "       [0, 0, 0, 0, 1],\n",
       "       [1, 0, 0, 0, 0],\n",
       "       [1, 0, 0, 0, 0],\n",
       "       [1, 0, 0, 0, 0],\n",
       "       [1, 0, 0, 0, 0],\n",
       "       [1, 0, 0, 0, 0],\n",
       "       [1, 0, 0, 0, 0],\n",
       "       [1, 0, 0, 0, 0],\n",
       "       [0, 0, 0, 0, 1],\n",
       "       [1, 0, 0, 0, 0],\n",
       "       [1, 0, 0, 0, 0],\n",
       "       [1, 0, 0, 0, 0],\n",
       "       [0, 0, 0, 0, 1],\n",
       "       [1, 0, 0, 0, 0],\n",
       "       [1, 0, 0, 0, 0],\n",
       "       [1, 0, 0, 0, 0],\n",
       "       [1, 0, 0, 0, 0],\n",
       "       [0, 0, 0, 0, 1],\n",
       "       [1, 0, 0, 0, 0],\n",
       "       [1, 0, 0, 0, 0],\n",
       "       [1, 0, 0, 0, 0],\n",
       "       [0, 0, 0, 0, 0],\n",
       "       [1, 0, 0, 0, 0],\n",
       "       [1, 0, 0, 0, 0],\n",
       "       [1, 0, 0, 0, 0],\n",
       "       [1, 0, 0, 0, 0],\n",
       "       [1, 0, 0, 0, 0],\n",
       "       [1, 0, 0, 0, 0],\n",
       "       [1, 0, 0, 0, 0],\n",
       "       [1, 0, 0, 0, 0],\n",
       "       [1, 0, 0, 0, 0],\n",
       "       [1, 0, 0, 0, 0],\n",
       "       [1, 0, 0, 0, 0],\n",
       "       [1, 0, 0, 0, 0],\n",
       "       [1, 0, 0, 0, 0]])"
      ]
     },
     "execution_count": 12,
     "metadata": {},
     "output_type": "execute_result"
    }
   ],
   "source": [
    "result"
   ]
  },
  {
   "cell_type": "code",
   "execution_count": 13,
   "metadata": {},
   "outputs": [
    {
     "name": "stdout",
     "output_type": "stream",
     "text": [
      "Normal\n",
      "Normal\n",
      "Normal\n",
      "Normal\n",
      "Normal\n",
      "Normal\n",
      "Normal\n",
      "U2R\n",
      "U2R\n",
      "Normal\n",
      "Normal\n",
      "Normal\n",
      "Normal\n",
      "Normal\n",
      "Normal\n",
      "Normal\n",
      "U2R\n",
      "Normal\n",
      "Normal\n",
      "Normal\n",
      "U2R\n",
      "Normal\n",
      "Normal\n",
      "Normal\n",
      "Normal\n",
      "U2R\n",
      "Normal\n",
      "Normal\n",
      "Normal\n",
      "Normal\n",
      "Normal\n",
      "Normal\n",
      "Normal\n",
      "Normal\n",
      "Normal\n",
      "Normal\n",
      "Normal\n",
      "Normal\n",
      "Normal\n",
      "Normal\n",
      "Normal\n",
      "Normal\n"
     ]
    }
   ],
   "source": [
    "l=['Normal','DoS','Probe','R2L','U2R']\n",
    "l=np.array(l)\n",
    "for x in result:\n",
    "    for y in range(len(x)):\n",
    "        if(x[y]==1):\n",
    "            print(l[y])\n",
    "            break\n",
    "            "
   ]
  },
  {
   "cell_type": "code",
   "execution_count": null,
   "metadata": {},
   "outputs": [],
   "source": []
  }
 ],
 "metadata": {
  "kernelspec": {
   "display_name": "Python 3",
   "language": "python",
   "name": "python3"
  },
  "language_info": {
   "codemirror_mode": {
    "name": "ipython",
    "version": 3
   },
   "file_extension": ".py",
   "mimetype": "text/x-python",
   "name": "python",
   "nbconvert_exporter": "python",
   "pygments_lexer": "ipython3",
   "version": "3.8.6"
  }
 },
 "nbformat": 4,
 "nbformat_minor": 4
}
